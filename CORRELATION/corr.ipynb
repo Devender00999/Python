{
 "cells": [
  {
   "cell_type": "markdown",
   "metadata": {},
   "source": [
    "# TOPIC: CORRELATION\n",
    "\n",
    "### PROBLEM STATEMENT: Write a function in python that take dataframe as input and drop columns having Pearson correlation more than 0.85"
   ]
  },
  {
   "cell_type": "code",
   "execution_count": 21,
   "metadata": {},
   "outputs": [],
   "source": [
    "import pandas as pd"
   ]
  },
  {
   "cell_type": "code",
   "execution_count": 102,
   "metadata": {},
   "outputs": [],
   "source": [
    "df = pd.read_csv(\"Loan payments data.csv\")"
   ]
  },
  {
   "cell_type": "code",
   "execution_count": 103,
   "metadata": {},
   "outputs": [
    {
     "data": {
      "text/plain": [
       "Loan_ID            object\n",
       "loan_status        object\n",
       "Principal           int64\n",
       "terms               int64\n",
       "effective_date     object\n",
       "due_date           object\n",
       "paid_off_time      object\n",
       "past_due_days     float64\n",
       "age                 int64\n",
       "education          object\n",
       "Gender             object\n",
       "dtype: object"
      ]
     },
     "execution_count": 103,
     "metadata": {},
     "output_type": "execute_result"
    }
   ],
   "source": [
    "df.dtypes"
   ]
  },
  {
   "cell_type": "code",
   "execution_count": 104,
   "metadata": {},
   "outputs": [
    {
     "data": {
      "text/plain": [
       "Loan_ID             0\n",
       "loan_status         0\n",
       "Principal           0\n",
       "terms               0\n",
       "effective_date      0\n",
       "due_date            0\n",
       "paid_off_time     100\n",
       "past_due_days     300\n",
       "age                 0\n",
       "education           0\n",
       "Gender              0\n",
       "dtype: int64"
      ]
     },
     "execution_count": 104,
     "metadata": {},
     "output_type": "execute_result"
    }
   ],
   "source": [
    "df.isnull().sum()"
   ]
  },
  {
   "cell_type": "code",
   "execution_count": 105,
   "metadata": {},
   "outputs": [
    {
     "data": {
      "text/html": [
       "<div>\n",
       "<style scoped>\n",
       "    .dataframe tbody tr th:only-of-type {\n",
       "        vertical-align: middle;\n",
       "    }\n",
       "\n",
       "    .dataframe tbody tr th {\n",
       "        vertical-align: top;\n",
       "    }\n",
       "\n",
       "    .dataframe thead th {\n",
       "        text-align: right;\n",
       "    }\n",
       "</style>\n",
       "<table border=\"1\" class=\"dataframe\">\n",
       "  <thead>\n",
       "    <tr style=\"text-align: right;\">\n",
       "      <th></th>\n",
       "      <th>Principal</th>\n",
       "      <th>terms</th>\n",
       "      <th>past_due_days</th>\n",
       "      <th>age</th>\n",
       "    </tr>\n",
       "  </thead>\n",
       "  <tbody>\n",
       "    <tr>\n",
       "      <th>Principal</th>\n",
       "      <td>1.000000</td>\n",
       "      <td>0.534302</td>\n",
       "      <td>-0.093139</td>\n",
       "      <td>-0.092613</td>\n",
       "    </tr>\n",
       "    <tr>\n",
       "      <th>terms</th>\n",
       "      <td>0.534302</td>\n",
       "      <td>1.000000</td>\n",
       "      <td>-0.102613</td>\n",
       "      <td>-0.074259</td>\n",
       "    </tr>\n",
       "    <tr>\n",
       "      <th>past_due_days</th>\n",
       "      <td>-0.093139</td>\n",
       "      <td>-0.102613</td>\n",
       "      <td>1.000000</td>\n",
       "      <td>-0.053849</td>\n",
       "    </tr>\n",
       "    <tr>\n",
       "      <th>age</th>\n",
       "      <td>-0.092613</td>\n",
       "      <td>-0.074259</td>\n",
       "      <td>-0.053849</td>\n",
       "      <td>1.000000</td>\n",
       "    </tr>\n",
       "  </tbody>\n",
       "</table>\n",
       "</div>"
      ],
      "text/plain": [
       "               Principal     terms  past_due_days       age\n",
       "Principal       1.000000  0.534302      -0.093139 -0.092613\n",
       "terms           0.534302  1.000000      -0.102613 -0.074259\n",
       "past_due_days  -0.093139 -0.102613       1.000000 -0.053849\n",
       "age            -0.092613 -0.074259      -0.053849  1.000000"
      ]
     },
     "execution_count": 105,
     "metadata": {},
     "output_type": "execute_result"
    }
   ],
   "source": [
    "df.corr()"
   ]
  },
  {
   "cell_type": "code",
   "execution_count": 106,
   "metadata": {},
   "outputs": [],
   "source": [
    "corr_matrix = df.corr().abs()\n"
   ]
  },
  {
   "cell_type": "code",
   "execution_count": 107,
   "metadata": {},
   "outputs": [],
   "source": [
    "to_drop = [column for column in corr_matrix if any(corr_matrix[column] > 0.85)]"
   ]
  },
  {
   "cell_type": "code",
   "execution_count": 108,
   "metadata": {},
   "outputs": [
    {
     "data": {
      "text/html": [
       "<div>\n",
       "<style scoped>\n",
       "    .dataframe tbody tr th:only-of-type {\n",
       "        vertical-align: middle;\n",
       "    }\n",
       "\n",
       "    .dataframe tbody tr th {\n",
       "        vertical-align: top;\n",
       "    }\n",
       "\n",
       "    .dataframe thead th {\n",
       "        text-align: right;\n",
       "    }\n",
       "</style>\n",
       "<table border=\"1\" class=\"dataframe\">\n",
       "  <thead>\n",
       "    <tr style=\"text-align: right;\">\n",
       "      <th></th>\n",
       "      <th>Loan_ID</th>\n",
       "      <th>loan_status</th>\n",
       "      <th>effective_date</th>\n",
       "      <th>due_date</th>\n",
       "      <th>paid_off_time</th>\n",
       "      <th>education</th>\n",
       "      <th>Gender</th>\n",
       "    </tr>\n",
       "  </thead>\n",
       "  <tbody>\n",
       "    <tr>\n",
       "      <th>0</th>\n",
       "      <td>xqd20166231</td>\n",
       "      <td>PAIDOFF</td>\n",
       "      <td>9/8/2016</td>\n",
       "      <td>10/7/2016</td>\n",
       "      <td>9/14/2016 19:31</td>\n",
       "      <td>High School or Below</td>\n",
       "      <td>male</td>\n",
       "    </tr>\n",
       "    <tr>\n",
       "      <th>1</th>\n",
       "      <td>xqd20168902</td>\n",
       "      <td>PAIDOFF</td>\n",
       "      <td>9/8/2016</td>\n",
       "      <td>10/7/2016</td>\n",
       "      <td>10/7/2016 9:00</td>\n",
       "      <td>Bechalor</td>\n",
       "      <td>female</td>\n",
       "    </tr>\n",
       "    <tr>\n",
       "      <th>2</th>\n",
       "      <td>xqd20160003</td>\n",
       "      <td>PAIDOFF</td>\n",
       "      <td>9/8/2016</td>\n",
       "      <td>10/7/2016</td>\n",
       "      <td>9/25/2016 16:58</td>\n",
       "      <td>Bechalor</td>\n",
       "      <td>female</td>\n",
       "    </tr>\n",
       "    <tr>\n",
       "      <th>3</th>\n",
       "      <td>xqd20160004</td>\n",
       "      <td>PAIDOFF</td>\n",
       "      <td>9/8/2016</td>\n",
       "      <td>9/22/2016</td>\n",
       "      <td>9/22/2016 20:00</td>\n",
       "      <td>college</td>\n",
       "      <td>male</td>\n",
       "    </tr>\n",
       "    <tr>\n",
       "      <th>4</th>\n",
       "      <td>xqd20160005</td>\n",
       "      <td>PAIDOFF</td>\n",
       "      <td>9/9/2016</td>\n",
       "      <td>10/8/2016</td>\n",
       "      <td>9/23/2016 21:36</td>\n",
       "      <td>college</td>\n",
       "      <td>female</td>\n",
       "    </tr>\n",
       "    <tr>\n",
       "      <th>...</th>\n",
       "      <td>...</td>\n",
       "      <td>...</td>\n",
       "      <td>...</td>\n",
       "      <td>...</td>\n",
       "      <td>...</td>\n",
       "      <td>...</td>\n",
       "      <td>...</td>\n",
       "    </tr>\n",
       "    <tr>\n",
       "      <th>495</th>\n",
       "      <td>xqd20160496</td>\n",
       "      <td>COLLECTION_PAIDOFF</td>\n",
       "      <td>9/12/2016</td>\n",
       "      <td>10/11/2016</td>\n",
       "      <td>10/14/2016 19:08</td>\n",
       "      <td>High School or Below</td>\n",
       "      <td>male</td>\n",
       "    </tr>\n",
       "    <tr>\n",
       "      <th>496</th>\n",
       "      <td>xqd20160497</td>\n",
       "      <td>COLLECTION_PAIDOFF</td>\n",
       "      <td>9/12/2016</td>\n",
       "      <td>9/26/2016</td>\n",
       "      <td>10/10/2016 20:02</td>\n",
       "      <td>High School or Below</td>\n",
       "      <td>male</td>\n",
       "    </tr>\n",
       "    <tr>\n",
       "      <th>497</th>\n",
       "      <td>xqd20160498</td>\n",
       "      <td>COLLECTION_PAIDOFF</td>\n",
       "      <td>9/12/2016</td>\n",
       "      <td>9/26/2016</td>\n",
       "      <td>9/29/2016 11:49</td>\n",
       "      <td>college</td>\n",
       "      <td>male</td>\n",
       "    </tr>\n",
       "    <tr>\n",
       "      <th>498</th>\n",
       "      <td>xqd20160499</td>\n",
       "      <td>COLLECTION_PAIDOFF</td>\n",
       "      <td>9/12/2016</td>\n",
       "      <td>11/10/2016</td>\n",
       "      <td>11/11/2016 22:40</td>\n",
       "      <td>college</td>\n",
       "      <td>female</td>\n",
       "    </tr>\n",
       "    <tr>\n",
       "      <th>499</th>\n",
       "      <td>xqd20160500</td>\n",
       "      <td>COLLECTION_PAIDOFF</td>\n",
       "      <td>9/12/2016</td>\n",
       "      <td>10/11/2016</td>\n",
       "      <td>10/19/2016 11:58</td>\n",
       "      <td>High School or Below</td>\n",
       "      <td>male</td>\n",
       "    </tr>\n",
       "  </tbody>\n",
       "</table>\n",
       "<p>500 rows × 7 columns</p>\n",
       "</div>"
      ],
      "text/plain": [
       "         Loan_ID         loan_status effective_date    due_date  \\\n",
       "0    xqd20166231             PAIDOFF       9/8/2016   10/7/2016   \n",
       "1    xqd20168902             PAIDOFF       9/8/2016   10/7/2016   \n",
       "2    xqd20160003             PAIDOFF       9/8/2016   10/7/2016   \n",
       "3    xqd20160004             PAIDOFF       9/8/2016   9/22/2016   \n",
       "4    xqd20160005             PAIDOFF       9/9/2016   10/8/2016   \n",
       "..           ...                 ...            ...         ...   \n",
       "495  xqd20160496  COLLECTION_PAIDOFF      9/12/2016  10/11/2016   \n",
       "496  xqd20160497  COLLECTION_PAIDOFF      9/12/2016   9/26/2016   \n",
       "497  xqd20160498  COLLECTION_PAIDOFF      9/12/2016   9/26/2016   \n",
       "498  xqd20160499  COLLECTION_PAIDOFF      9/12/2016  11/10/2016   \n",
       "499  xqd20160500  COLLECTION_PAIDOFF      9/12/2016  10/11/2016   \n",
       "\n",
       "        paid_off_time             education  Gender  \n",
       "0     9/14/2016 19:31  High School or Below    male  \n",
       "1      10/7/2016 9:00              Bechalor  female  \n",
       "2     9/25/2016 16:58              Bechalor  female  \n",
       "3     9/22/2016 20:00               college    male  \n",
       "4     9/23/2016 21:36               college  female  \n",
       "..                ...                   ...     ...  \n",
       "495  10/14/2016 19:08  High School or Below    male  \n",
       "496  10/10/2016 20:02  High School or Below    male  \n",
       "497   9/29/2016 11:49               college    male  \n",
       "498  11/11/2016 22:40               college  female  \n",
       "499  10/19/2016 11:58  High School or Below    male  \n",
       "\n",
       "[500 rows x 7 columns]"
      ]
     },
     "execution_count": 108,
     "metadata": {},
     "output_type": "execute_result"
    }
   ],
   "source": [
    "df.drop(df[to_drop], axis=1)"
   ]
  },
  {
   "cell_type": "code",
   "execution_count": null,
   "metadata": {},
   "outputs": [],
   "source": []
  }
 ],
 "metadata": {
  "kernelspec": {
   "display_name": "Python 3",
   "language": "python",
   "name": "python3"
  },
  "language_info": {
   "codemirror_mode": {
    "name": "ipython",
    "version": 3
   },
   "file_extension": ".py",
   "mimetype": "text/x-python",
   "name": "python",
   "nbconvert_exporter": "python",
   "pygments_lexer": "ipython3",
   "version": "3.7.6"
  }
 },
 "nbformat": 4,
 "nbformat_minor": 4
}
